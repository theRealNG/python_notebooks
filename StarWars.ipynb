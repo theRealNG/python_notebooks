{
 "cells": [
  {
   "cell_type": "code",
   "execution_count": 10,
   "metadata": {
    "collapsed": false
   },
   "outputs": [
    {
     "name": "stdout",
     "output_type": "stream",
     "text": [
      "Populating the interactive namespace from numpy and matplotlib\n"
     ]
    },
    {
     "name": "stderr",
     "output_type": "stream",
     "text": [
      "WARNING: pylab import has clobbered these variables: ['character']\n",
      "`%matplotlib` prevents importing * from pylab and numpy\n"
     ]
    },
    {
     "data": {
      "text/plain": [
       "Index(['RespondentID',\n",
       "       'Have you seen any of the 6 films in the Star Wars franchise?',\n",
       "       'Do you consider yourself to be a fan of the Star Wars film franchise?',\n",
       "       'Which of the following Star Wars films have you seen? Please select all that apply.',\n",
       "       'Unnamed: 4', 'Unnamed: 5', 'Unnamed: 6', 'Unnamed: 7', 'Unnamed: 8',\n",
       "       'Please rank the Star Wars films in order of preference with 1 being your favorite film in the franchise and 6 being your least favorite film.',\n",
       "       'Unnamed: 10', 'Unnamed: 11', 'Unnamed: 12', 'Unnamed: 13',\n",
       "       'Unnamed: 14',\n",
       "       'Please state whether you view the following characters favorably, unfavorably, or are unfamiliar with him/her.',\n",
       "       'Unnamed: 16', 'Unnamed: 17', 'Unnamed: 18', 'Unnamed: 19',\n",
       "       'Unnamed: 20', 'Unnamed: 21', 'Unnamed: 22', 'Unnamed: 23',\n",
       "       'Unnamed: 24', 'Unnamed: 25', 'Unnamed: 26', 'Unnamed: 27',\n",
       "       'Unnamed: 28', 'Which character shot first?',\n",
       "       'Are you familiar with the Expanded Universe?',\n",
       "       'Do you consider yourself to be a fan of the Expanded Universe?æ',\n",
       "       'Do you consider yourself to be a fan of the Star Trek franchise?',\n",
       "       'Gender', 'Age', 'Household Income', 'Education',\n",
       "       'Location (Census Region)'],\n",
       "      dtype='object')"
      ]
     },
     "execution_count": 10,
     "metadata": {},
     "output_type": "execute_result"
    }
   ],
   "source": [
    "%pylab inline\n",
    "import pandas as pd\n",
    "import seaborn as sns\n",
    "\n",
    "star_wars = pd.read_csv('StarWars.csv', encoding=\"ISO-8859-1\")\n",
    "\n",
    "star_wars.columns "
   ]
  },
  {
   "cell_type": "markdown",
   "metadata": {},
   "source": [
    "# Data Cleaning\n",
    "\n",
    "Renaming Columns"
   ]
  },
  {
   "cell_type": "code",
   "execution_count": 11,
   "metadata": {
    "collapsed": false
   },
   "outputs": [
    {
     "data": {
      "text/plain": [
       "Index(['RespondentID',\n",
       "       'Have you seen any of the 6 films in the Star Wars franchise?',\n",
       "       'Do you consider yourself to be a fan of the Star Wars film franchise?',\n",
       "       'part_1', 'part_2', 'part_3', 'part_4', 'part_5', 'part_6',\n",
       "       'part_1_rating', 'part_2_rating', 'part_3_rating', 'part_4_rating',\n",
       "       'part_5_rating', 'part_6_rating', 'Han Solo', 'Luke Skywalker',\n",
       "       'Princess Leia Organa', 'Anakin Skywalker', 'Obi Wan Kenobi',\n",
       "       'Emperor Palpatine', 'Darth Vader', 'Lando Calrissian', 'Boba Fett',\n",
       "       'C-3P0', 'R2 D2', 'Jar Jar Binks', 'Padme Amidala', 'Yoda',\n",
       "       'Which character shot first?',\n",
       "       'Are you familiar with the Expanded Universe?',\n",
       "       'Do you consider yourself to be a fan of the Expanded Universe?æ',\n",
       "       'Do you consider yourself to be a fan of the Star Trek franchise?',\n",
       "       'Gender', 'Age', 'Household Income', 'Education',\n",
       "       'Location (Census Region)'],\n",
       "      dtype='object')"
      ]
     },
     "execution_count": 11,
     "metadata": {},
     "output_type": "execute_result"
    }
   ],
   "source": [
    "star_wars.rename(columns={'Which of the following Star Wars films have you seen? Please select all that apply.':'part_1',\n",
    "                         'Unnamed: 4':'part_2',\n",
    "                         'Unnamed: 5': 'part_3',\n",
    "                         'Unnamed: 6': 'part_4',\n",
    "                         'Unnamed: 7': 'part_5',\n",
    "                         'Unnamed: 8': 'part_6',\n",
    "                         'Please rank the Star Wars films in order of preference with 1 being your favorite film in the franchise and 6 being your least favorite film.':'part_1_rating',\n",
    "                         'Unnamed: 10': 'part_2_rating',\n",
    "                         'Unnamed: 11': 'part_3_rating',\n",
    "                         'Unnamed: 12': 'part_4_rating',\n",
    "                         'Unnamed: 13': 'part_5_rating',\n",
    "                         'Unnamed: 14': 'part_6_rating',\n",
    "                         'Please state whether you view the following characters favorably, unfavorably, or are unfamiliar with him/her.': 'Han Solo',\n",
    "                         'Unnamed: 16': 'Luke Skywalker',\n",
    "                         'Unnamed: 17': 'Princess Leia Organa',\n",
    "                         'Unnamed: 18': 'Anakin Skywalker',\n",
    "                         'Unnamed: 19': 'Obi Wan Kenobi',\n",
    "                         'Unnamed: 20': 'Emperor Palpatine',\n",
    "                         'Unnamed: 21': 'Darth Vader',\n",
    "                         'Unnamed: 22': 'Lando Calrissian',\n",
    "                         'Unnamed: 23': 'Boba Fett',\n",
    "                         'Unnamed: 24': 'C-3P0',\n",
    "                         'Unnamed: 25': 'R2 D2',\n",
    "                         'Unnamed: 26': 'Jar Jar Binks',\n",
    "                         'Unnamed: 27': 'Padme Amidala',\n",
    "                         'Unnamed: 28': 'Yoda'},\n",
    "                inplace=True)\n",
    "\n",
    "star_wars.columns"
   ]
  },
  {
   "cell_type": "markdown",
   "metadata": {
    "collapsed": true
   },
   "source": [
    "Modifying data"
   ]
  },
  {
   "cell_type": "code",
   "execution_count": 12,
   "metadata": {
    "collapsed": false
   },
   "outputs": [],
   "source": [
    "def convert_to_ratings(col):\n",
    "    if col == 'Very favorably':\n",
    "        return 6\n",
    "    elif col == 'Somewhat favorably':\n",
    "        return 5\n",
    "    elif col == 'Neither favorably nor unfavorably (neutral)':\n",
    "        return 4\n",
    "    elif col == 'Somewhat unfavorably':\n",
    "        return 3\n",
    "    elif col == 'Unfamiliar (N/A)':\n",
    "        return 2\n",
    "    elif col == 'Very unfavorably':\n",
    "        return 1\n",
    "    else:\n",
    "        return col\n",
    "\n",
    "def convert_to_yes_or_no(col):\n",
    "    if col is not None:\n",
    "        return 1\n",
    "    else:\n",
    "        return 0\n",
    "    \n",
    "for character in ['Han Solo', 'Luke Skywalker',\n",
    "       'Princess Leia Organa', 'Anakin Skywalker', 'Obi Wan Kenobi',\n",
    "       'Emperor Palpatine', 'Darth Vader', 'Lando Calrissian', 'Boba Fett',\n",
    "       'C-3P0', 'R2 D2', 'Jar Jar Binks', 'Padme Amidala', 'Yoda']:\n",
    "    star_wars[character] = star_wars[character].apply(convert_to_ratings)\n",
    "\n",
    "# for part in ['part_1','part_2','part_3','part_4','part_5','part_6']:\n",
    "#     star_wars[part] = star_wars[part].apply(convert_to_yes_or_no)"
   ]
  },
  {
   "cell_type": "code",
   "execution_count": 13,
   "metadata": {
    "collapsed": false
   },
   "outputs": [
    {
     "name": "stdout",
     "output_type": "stream",
     "text": [
      "   RespondentID Have you seen any of the 6 films in the Star Wars franchise?  \\\n",
      "0           NaN                                           Response             \n",
      "1    3292879998                                                Yes             \n",
      "2    3292879538                                                 No             \n",
      "\n",
      "  Do you consider yourself to be a fan of the Star Wars film franchise?  \\\n",
      "0                                           Response                      \n",
      "1                                                Yes                      \n",
      "2                                                NaN                      \n",
      "\n",
      "                                     part_1  \\\n",
      "0  Star Wars: Episode I  The Phantom Menace   \n",
      "1  Star Wars: Episode I  The Phantom Menace   \n",
      "2                                       NaN   \n",
      "\n",
      "                                        part_2  \\\n",
      "0  Star Wars: Episode II  Attack of the Clones   \n",
      "1  Star Wars: Episode II  Attack of the Clones   \n",
      "2                                          NaN   \n",
      "\n",
      "                                        part_3  \\\n",
      "0  Star Wars: Episode III  Revenge of the Sith   \n",
      "1  Star Wars: Episode III  Revenge of the Sith   \n",
      "2                                          NaN   \n",
      "\n",
      "                              part_4  \\\n",
      "0  Star Wars: Episode IV  A New Hope   \n",
      "1  Star Wars: Episode IV  A New Hope   \n",
      "2                                NaN   \n",
      "\n",
      "                                         part_5  \\\n",
      "0  Star Wars: Episode V The Empire Strikes Back   \n",
      "1  Star Wars: Episode V The Empire Strikes Back   \n",
      "2                                           NaN   \n",
      "\n",
      "                                     part_6  \\\n",
      "0  Star Wars: Episode VI Return of the Jedi   \n",
      "1  Star Wars: Episode VI Return of the Jedi   \n",
      "2                                       NaN   \n",
      "\n",
      "                              part_1_rating           ...             Yoda  \\\n",
      "0  Star Wars: Episode I  The Phantom Menace           ...             Yoda   \n",
      "1                                         3           ...                6   \n",
      "2                                       NaN           ...              NaN   \n",
      "\n",
      "        Which character shot first?  \\\n",
      "0                          Response   \n",
      "1  I don't understand this question   \n",
      "2                               NaN   \n",
      "\n",
      "  Are you familiar with the Expanded Universe?  \\\n",
      "0                                     Response   \n",
      "1                                          Yes   \n",
      "2                                          NaN   \n",
      "\n",
      "  Do you consider yourself to be a fan of the Expanded Universe?æ  \\\n",
      "0                                           Response                 \n",
      "1                                                 No                 \n",
      "2                                                NaN                 \n",
      "\n",
      "  Do you consider yourself to be a fan of the Star Trek franchise?    Gender  \\\n",
      "0                                           Response                Response   \n",
      "1                                                 No                    Male   \n",
      "2                                                Yes                    Male   \n",
      "\n",
      "        Age Household Income           Education Location (Census Region)  \n",
      "0  Response         Response            Response                 Response  \n",
      "1     18-29              NaN  High school degree           South Atlantic  \n",
      "2     18-29     $0 - $24,999     Bachelor degree       West South Central  \n",
      "\n",
      "[3 rows x 38 columns]\n"
     ]
    }
   ],
   "source": [
    "print(star_wars.head(3))\n"
   ]
  },
  {
   "cell_type": "code",
   "execution_count": null,
   "metadata": {
    "collapsed": true
   },
   "outputs": [],
   "source": []
  }
 ],
 "metadata": {
  "kernelspec": {
   "display_name": "Python 3",
   "language": "python",
   "name": "python3"
  },
  "language_info": {
   "codemirror_mode": {
    "name": "ipython",
    "version": 3
   },
   "file_extension": ".py",
   "mimetype": "text/x-python",
   "name": "python",
   "nbconvert_exporter": "python",
   "pygments_lexer": "ipython3",
   "version": "3.4.3"
  }
 },
 "nbformat": 4,
 "nbformat_minor": 0
}
