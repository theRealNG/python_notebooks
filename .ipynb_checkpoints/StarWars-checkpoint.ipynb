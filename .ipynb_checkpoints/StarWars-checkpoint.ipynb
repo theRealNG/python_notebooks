{
 "cells": [
  {
   "cell_type": "code",
   "execution_count": 3,
   "metadata": {
    "collapsed": true
   },
   "outputs": [],
   "source": [
    "import pandas as pd\n",
    "star_wars = pd.read_csv('StarWars.csv', encoding=\"ISO-8859-1\")\n",
    "\n",
    "star_wars.columns"
   ]
  },
  {
   "cell_type": "markdown",
   "metadata": {},
   "source": [
    "# Data Cleaning\n",
    "\n",
    "Renaming Columns"
   ]
  },
  {
   "cell_type": "code",
   "execution_count": 5,
   "metadata": {
    "collapsed": false
   },
   "outputs": [
    {
     "data": {
      "text/plain": [
       "Index(['RespondentID',\n",
       "       'Have you seen any of the 6 films in the Star Wars franchise?',\n",
       "       'Do you consider yourself to be a fan of the Star Wars film franchise?',\n",
       "       'part_1', 'part_2', 'part_3', 'part_4', 'part_5', 'part_6',\n",
       "       'part_1_rating', 'part_2_rating', 'part_3_rating', 'part_4_rating',\n",
       "       'part_5_rating', 'part_6_rating', 'Han Solo', 'Luke Skywalker',\n",
       "       'Princess Leia Organa', 'Anakin Skywalker', 'Obi Wan Kenobi',\n",
       "       'Emperor Palpatine', 'Darth Vader', 'Lando Calrissian', 'Boba Fett',\n",
       "       'C-3P0', 'R2 D2', 'Jar Jar Binks', 'Padme Amidala', 'Yoda',\n",
       "       'Which character shot first?',\n",
       "       'Are you familiar with the Expanded Universe?',\n",
       "       'Do you consider yourself to be a fan of the Expanded Universe?æ',\n",
       "       'Do you consider yourself to be a fan of the Star Trek franchise?',\n",
       "       'Gender', 'Age', 'Household Income', 'Education',\n",
       "       'Location (Census Region)'],\n",
       "      dtype='object')"
      ]
     },
     "execution_count": 5,
     "metadata": {},
     "output_type": "execute_result"
    }
   ],
   "source": [
    "star_wars.rename(columns={'Which of the following Star Wars films have you seen? Please select all that apply.':'part_1',\n",
    "                         'Unnamed: 4':'part_2',\n",
    "                         'Unnamed: 5': 'part_3',\n",
    "                         'Unnamed: 6': 'part_4',\n",
    "                         'Unnamed: 7': 'part_5',\n",
    "                         'Unnamed: 8': 'part_6',\n",
    "                         'Please rank the Star Wars films in order of preference with 1 being your favorite film in the franchise and 6 being your least favorite film.':'part_1_rating',\n",
    "                         'Unnamed: 10': 'part_2_rating',\n",
    "                         'Unnamed: 11': 'part_3_rating',\n",
    "                         'Unnamed: 12': 'part_4_rating',\n",
    "                         'Unnamed: 13': 'part_5_rating',\n",
    "                         'Unnamed: 14': 'part_6_rating',\n",
    "                         'Please state whether you view the following characters favorably, unfavorably, or are unfamiliar with him/her.': 'Han Solo',\n",
    "                         'Unnamed: 16': 'Luke Skywalker',\n",
    "                         'Unnamed: 17': 'Princess Leia Organa',\n",
    "                         'Unnamed: 18': 'Anakin Skywalker',\n",
    "                         'Unnamed: 19': 'Obi Wan Kenobi',\n",
    "                         'Unnamed: 20': 'Emperor Palpatine',\n",
    "                         'Unnamed: 21': 'Darth Vader',\n",
    "                         'Unnamed: 22': 'Lando Calrissian',\n",
    "                         'Unnamed: 23': 'Boba Fett',\n",
    "                         'Unnamed: 24': 'C-3P0',\n",
    "                         'Unnamed: 25': 'R2 D2',\n",
    "                         'Unnamed: 26': 'Jar Jar Binks',\n",
    "                         'Unnamed: 27': 'Padme Amidala',\n",
    "                         'Unnamed: 28': 'Yoda'},\n",
    "                inplace=True)\n",
    "\n",
    "star_wars.columns"
   ]
  },
  {
   "cell_type": "code",
   "execution_count": null,
   "metadata": {
    "collapsed": true
   },
   "outputs": [],
   "source": []
  }
 ],
 "metadata": {
  "kernelspec": {
   "display_name": "Python 3",
   "language": "python",
   "name": "python3"
  },
  "language_info": {
   "codemirror_mode": {
    "name": "ipython",
    "version": 3
   },
   "file_extension": ".py",
   "mimetype": "text/x-python",
   "name": "python",
   "nbconvert_exporter": "python",
   "pygments_lexer": "ipython3",
   "version": "3.4.3"
  }
 },
 "nbformat": 4,
 "nbformat_minor": 0
}
